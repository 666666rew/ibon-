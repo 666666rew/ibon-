{
  "cells": [
    {
      "cell_type": "markdown",
      "metadata": {
        "id": "view-in-github",
        "colab_type": "text"
      },
      "source": [
        "<a href=\"https://colab.research.google.com/github/666666rew/ibon-/blob/main/ibon%E8%B6%85%E5%95%86%E8%B3%87%E6%96%99%E4%B8%8B%E8%BC%89.ipynb\" target=\"_parent\"><img src=\"https://colab.research.google.com/assets/colab-badge.svg\" alt=\"Open In Colab\"/></a>"
      ]
    },
    {
      "cell_type": "code",
      "source": [
        "writer= pd.ExcelWriter('711.xlsx')\n",
        "for country in areas:\n",
        "  url = 'https://www.ibon.com.tw/retail_inquiry_ajax.aspx'\n",
        "\n",
        "  payload = {'strTargetField':  'COUNTY', 'strKeyWords':  country}\n",
        "  r = requests.post(url,  data=payload)\n",
        "  r.encoding='utf-8'\n",
        "  print(country,  \"下載中...\")\n",
        "  df  = pd.read_html(r.text,  header=0)[0]\n",
        "  df.to_excel(writer, sheet_name=country,   index=False)"
      ],
      "metadata": {
        "colab": {
          "base_uri": "https://localhost:8080/"
        },
        "id": "B2WB8EWXuDz2",
        "outputId": "67f31335-5738-41a7-e246-4fb836a20800"
      },
      "execution_count": 12,
      "outputs": [
        {
          "output_type": "stream",
          "name": "stdout",
          "text": [
            "台北市 下載中...\n",
            "新北市 下載中...\n",
            "基隆市 下載中...\n",
            "宜蘭縣 下載中...\n",
            "桃園市 下載中...\n",
            "新竹市 下載中...\n",
            "新竹縣 下載中...\n",
            "苗栗縣 下載中...\n",
            "台中市 下載中...\n",
            "彰化縣 下載中...\n",
            "南投縣 下載中...\n",
            "雲林縣 下載中...\n",
            "嘉義市 下載中...\n",
            "嘉義縣 下載中...\n",
            "台南市 下載中...\n",
            "高雄市 下載中...\n",
            "屏東縣 下載中...\n",
            "花蓮縣 下載中...\n",
            "台東縣 下載中...\n",
            "澎湖縣 下載中...\n",
            "金門縣 下載中...\n",
            "連江縣 下載中...\n",
            "南海諸島 下載中...\n"
          ]
        }
      ]
    },
    {
      "cell_type": "code",
      "source": [
        "\n",
        "\n",
        "import requests\n",
        "\n",
        "from bs4 import BeautifulSoup\n",
        "\n",
        "import pandas as pd\n",
        "\n",
        "\n",
        "\n",
        "# 取得所有縣市\n",
        "\n",
        "url = 'https://www.ibon.com.tw/retail_inquiry.aspx#gsc.tab=0'\n",
        "\n",
        "r = requests.get(url)\n",
        "\n",
        "r.encoding = 'utf-8'\n",
        "\n",
        "html = BeautifulSoup(r.text, 'html.parser')\n",
        "\n",
        "areas = html.find('select', id='Class1').find_all('option')\n",
        "\n",
        "for i in range(len(areas)):\n",
        "\n",
        "  areas[i] = areas[i].text\n",
        "\n",
        "\n",
        "print(areas)"
      ],
      "metadata": {
        "id": "Jt3Qh5UazpyC"
      },
      "execution_count": null,
      "outputs": []
    },
    {
      "cell_type": "code",
      "source": [],
      "metadata": {
        "id": "jeC2hFuvuD3R"
      },
      "execution_count": null,
      "outputs": []
    },
    {
      "cell_type": "code",
      "source": [],
      "metadata": {
        "id": "n-gN4Qr5uD54"
      },
      "execution_count": null,
      "outputs": []
    },
    {
      "cell_type": "code",
      "source": [],
      "metadata": {
        "id": "uVRGDjtAuD8S"
      },
      "execution_count": null,
      "outputs": []
    },
    {
      "cell_type": "code",
      "source": [],
      "metadata": {
        "id": "l46yJfaDuD-c"
      },
      "execution_count": null,
      "outputs": []
    },
    {
      "cell_type": "code",
      "source": [],
      "metadata": {
        "id": "ACn66c1wuEAU"
      },
      "execution_count": null,
      "outputs": []
    },
    {
      "cell_type": "code",
      "source": [],
      "metadata": {
        "id": "OPFIsO-SuECO"
      },
      "execution_count": null,
      "outputs": []
    },
    {
      "cell_type": "code",
      "source": [],
      "metadata": {
        "id": "THVhzAsOuEEH"
      },
      "execution_count": null,
      "outputs": []
    },
    {
      "cell_type": "code",
      "source": [],
      "metadata": {
        "id": "N-0fbM4LuEGV"
      },
      "execution_count": null,
      "outputs": []
    },
    {
      "cell_type": "code",
      "source": [],
      "metadata": {
        "id": "-LGb4nYXuEH9"
      },
      "execution_count": null,
      "outputs": []
    },
    {
      "cell_type": "code",
      "source": [],
      "metadata": {
        "id": "RAxi8MftuEJp"
      },
      "execution_count": null,
      "outputs": []
    }
  ],
  "metadata": {
    "colab": {
      "name": "歡迎使用 Colaboratory",
      "provenance": [],
      "include_colab_link": true
    },
    "kernelspec": {
      "display_name": "Python 3",
      "name": "python3"
    }
  },
  "nbformat": 4,
  "nbformat_minor": 0
}